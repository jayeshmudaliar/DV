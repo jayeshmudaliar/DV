{
  "nbformat": 4,
  "nbformat_minor": 0,
  "metadata": {
    "colab": {
      "provenance": []
    },
    "kernelspec": {
      "name": "python3",
      "display_name": "Python 3"
    },
    "language_info": {
      "name": "python"
    }
  },
  "cells": [
    {
      "cell_type": "code",
      "source": [
        "!pip install dash==2.17.0\n"
      ],
      "metadata": {
        "colab": {
          "base_uri": "https://localhost:8080/"
        },
        "id": "rLP5D5wK7QXf",
        "outputId": "1e4f227d-dcff-4d6e-f10c-20f2c05b5a9b"
      },
      "execution_count": null,
      "outputs": [
        {
          "output_type": "stream",
          "name": "stdout",
          "text": [
            "Collecting dash==2.17.0\n",
            "  Downloading dash-2.17.0-py3-none-any.whl (7.5 MB)\n",
            "\u001b[2K     \u001b[90m━━━━━━━━━━━━━━━━━━━━━━━━━━━━━━━━━━━━━━━━\u001b[0m \u001b[32m7.5/7.5 MB\u001b[0m \u001b[31m15.5 MB/s\u001b[0m eta \u001b[36m0:00:00\u001b[0m\n",
            "\u001b[?25hRequirement already satisfied: Flask<3.1,>=1.0.4 in /usr/local/lib/python3.10/dist-packages (from dash==2.17.0) (2.2.5)\n",
            "Requirement already satisfied: Werkzeug<3.1 in /usr/local/lib/python3.10/dist-packages (from dash==2.17.0) (3.0.3)\n",
            "Requirement already satisfied: plotly>=5.0.0 in /usr/local/lib/python3.10/dist-packages (from dash==2.17.0) (5.15.0)\n",
            "Collecting dash-html-components==2.0.0 (from dash==2.17.0)\n",
            "  Downloading dash_html_components-2.0.0-py3-none-any.whl (4.1 kB)\n",
            "Collecting dash-core-components==2.0.0 (from dash==2.17.0)\n",
            "  Downloading dash_core_components-2.0.0-py3-none-any.whl (3.8 kB)\n",
            "Collecting dash-table==5.0.0 (from dash==2.17.0)\n",
            "  Downloading dash_table-5.0.0-py3-none-any.whl (3.9 kB)\n",
            "Requirement already satisfied: importlib-metadata in /usr/local/lib/python3.10/dist-packages (from dash==2.17.0) (7.2.0)\n",
            "Requirement already satisfied: typing-extensions>=4.1.1 in /usr/local/lib/python3.10/dist-packages (from dash==2.17.0) (4.12.2)\n",
            "Requirement already satisfied: requests in /usr/local/lib/python3.10/dist-packages (from dash==2.17.0) (2.31.0)\n",
            "Collecting retrying (from dash==2.17.0)\n",
            "  Downloading retrying-1.3.4-py3-none-any.whl (11 kB)\n",
            "Requirement already satisfied: nest-asyncio in /usr/local/lib/python3.10/dist-packages (from dash==2.17.0) (1.6.0)\n",
            "Requirement already satisfied: setuptools in /usr/local/lib/python3.10/dist-packages (from dash==2.17.0) (67.7.2)\n",
            "Requirement already satisfied: Jinja2>=3.0 in /usr/local/lib/python3.10/dist-packages (from Flask<3.1,>=1.0.4->dash==2.17.0) (3.1.4)\n",
            "Requirement already satisfied: itsdangerous>=2.0 in /usr/local/lib/python3.10/dist-packages (from Flask<3.1,>=1.0.4->dash==2.17.0) (2.2.0)\n",
            "Requirement already satisfied: click>=8.0 in /usr/local/lib/python3.10/dist-packages (from Flask<3.1,>=1.0.4->dash==2.17.0) (8.1.7)\n",
            "Requirement already satisfied: tenacity>=6.2.0 in /usr/local/lib/python3.10/dist-packages (from plotly>=5.0.0->dash==2.17.0) (8.4.1)\n",
            "Requirement already satisfied: packaging in /usr/local/lib/python3.10/dist-packages (from plotly>=5.0.0->dash==2.17.0) (24.1)\n",
            "Requirement already satisfied: MarkupSafe>=2.1.1 in /usr/local/lib/python3.10/dist-packages (from Werkzeug<3.1->dash==2.17.0) (2.1.5)\n",
            "Requirement already satisfied: zipp>=0.5 in /usr/local/lib/python3.10/dist-packages (from importlib-metadata->dash==2.17.0) (3.19.2)\n",
            "Requirement already satisfied: charset-normalizer<4,>=2 in /usr/local/lib/python3.10/dist-packages (from requests->dash==2.17.0) (3.3.2)\n",
            "Requirement already satisfied: idna<4,>=2.5 in /usr/local/lib/python3.10/dist-packages (from requests->dash==2.17.0) (3.7)\n",
            "Requirement already satisfied: urllib3<3,>=1.21.1 in /usr/local/lib/python3.10/dist-packages (from requests->dash==2.17.0) (2.0.7)\n",
            "Requirement already satisfied: certifi>=2017.4.17 in /usr/local/lib/python3.10/dist-packages (from requests->dash==2.17.0) (2024.6.2)\n",
            "Requirement already satisfied: six>=1.7.0 in /usr/local/lib/python3.10/dist-packages (from retrying->dash==2.17.0) (1.16.0)\n",
            "Installing collected packages: dash-table, dash-html-components, dash-core-components, retrying, dash\n",
            "Successfully installed dash-2.17.0 dash-core-components-2.0.0 dash-html-components-2.0.0 dash-table-5.0.0 retrying-1.3.4\n"
          ]
        }
      ]
    },
    {
      "cell_type": "code",
      "source": [
        "!pip install dash-bootstrap-components==1.6.0"
      ],
      "metadata": {
        "colab": {
          "base_uri": "https://localhost:8080/"
        },
        "id": "GPXsderT7br1",
        "outputId": "3292ed2c-8aaa-4a3f-af79-a8190ffa5a00"
      },
      "execution_count": null,
      "outputs": [
        {
          "output_type": "stream",
          "name": "stdout",
          "text": [
            "Collecting dash-bootstrap-components==1.6.0\n",
            "  Downloading dash_bootstrap_components-1.6.0-py3-none-any.whl (222 kB)\n",
            "\u001b[2K     \u001b[90m━━━━━━━━━━━━━━━━━━━━━━━━━━━━━━━━━━━━━━━━\u001b[0m \u001b[32m222.5/222.5 kB\u001b[0m \u001b[31m2.9 MB/s\u001b[0m eta \u001b[36m0:00:00\u001b[0m\n",
            "\u001b[?25hRequirement already satisfied: dash>=2.0.0 in /usr/local/lib/python3.10/dist-packages (from dash-bootstrap-components==1.6.0) (2.17.0)\n",
            "Requirement already satisfied: Flask<3.1,>=1.0.4 in /usr/local/lib/python3.10/dist-packages (from dash>=2.0.0->dash-bootstrap-components==1.6.0) (2.2.5)\n",
            "Requirement already satisfied: Werkzeug<3.1 in /usr/local/lib/python3.10/dist-packages (from dash>=2.0.0->dash-bootstrap-components==1.6.0) (3.0.3)\n",
            "Requirement already satisfied: plotly>=5.0.0 in /usr/local/lib/python3.10/dist-packages (from dash>=2.0.0->dash-bootstrap-components==1.6.0) (5.15.0)\n",
            "Requirement already satisfied: dash-html-components==2.0.0 in /usr/local/lib/python3.10/dist-packages (from dash>=2.0.0->dash-bootstrap-components==1.6.0) (2.0.0)\n",
            "Requirement already satisfied: dash-core-components==2.0.0 in /usr/local/lib/python3.10/dist-packages (from dash>=2.0.0->dash-bootstrap-components==1.6.0) (2.0.0)\n",
            "Requirement already satisfied: dash-table==5.0.0 in /usr/local/lib/python3.10/dist-packages (from dash>=2.0.0->dash-bootstrap-components==1.6.0) (5.0.0)\n",
            "Requirement already satisfied: importlib-metadata in /usr/local/lib/python3.10/dist-packages (from dash>=2.0.0->dash-bootstrap-components==1.6.0) (7.2.0)\n",
            "Requirement already satisfied: typing-extensions>=4.1.1 in /usr/local/lib/python3.10/dist-packages (from dash>=2.0.0->dash-bootstrap-components==1.6.0) (4.12.2)\n",
            "Requirement already satisfied: requests in /usr/local/lib/python3.10/dist-packages (from dash>=2.0.0->dash-bootstrap-components==1.6.0) (2.31.0)\n",
            "Requirement already satisfied: retrying in /usr/local/lib/python3.10/dist-packages (from dash>=2.0.0->dash-bootstrap-components==1.6.0) (1.3.4)\n",
            "Requirement already satisfied: nest-asyncio in /usr/local/lib/python3.10/dist-packages (from dash>=2.0.0->dash-bootstrap-components==1.6.0) (1.6.0)\n",
            "Requirement already satisfied: setuptools in /usr/local/lib/python3.10/dist-packages (from dash>=2.0.0->dash-bootstrap-components==1.6.0) (67.7.2)\n",
            "Requirement already satisfied: Jinja2>=3.0 in /usr/local/lib/python3.10/dist-packages (from Flask<3.1,>=1.0.4->dash>=2.0.0->dash-bootstrap-components==1.6.0) (3.1.4)\n",
            "Requirement already satisfied: itsdangerous>=2.0 in /usr/local/lib/python3.10/dist-packages (from Flask<3.1,>=1.0.4->dash>=2.0.0->dash-bootstrap-components==1.6.0) (2.2.0)\n",
            "Requirement already satisfied: click>=8.0 in /usr/local/lib/python3.10/dist-packages (from Flask<3.1,>=1.0.4->dash>=2.0.0->dash-bootstrap-components==1.6.0) (8.1.7)\n",
            "Requirement already satisfied: tenacity>=6.2.0 in /usr/local/lib/python3.10/dist-packages (from plotly>=5.0.0->dash>=2.0.0->dash-bootstrap-components==1.6.0) (8.4.1)\n",
            "Requirement already satisfied: packaging in /usr/local/lib/python3.10/dist-packages (from plotly>=5.0.0->dash>=2.0.0->dash-bootstrap-components==1.6.0) (24.1)\n",
            "Requirement already satisfied: MarkupSafe>=2.1.1 in /usr/local/lib/python3.10/dist-packages (from Werkzeug<3.1->dash>=2.0.0->dash-bootstrap-components==1.6.0) (2.1.5)\n",
            "Requirement already satisfied: zipp>=0.5 in /usr/local/lib/python3.10/dist-packages (from importlib-metadata->dash>=2.0.0->dash-bootstrap-components==1.6.0) (3.19.2)\n",
            "Requirement already satisfied: charset-normalizer<4,>=2 in /usr/local/lib/python3.10/dist-packages (from requests->dash>=2.0.0->dash-bootstrap-components==1.6.0) (3.3.2)\n",
            "Requirement already satisfied: idna<4,>=2.5 in /usr/local/lib/python3.10/dist-packages (from requests->dash>=2.0.0->dash-bootstrap-components==1.6.0) (3.7)\n",
            "Requirement already satisfied: urllib3<3,>=1.21.1 in /usr/local/lib/python3.10/dist-packages (from requests->dash>=2.0.0->dash-bootstrap-components==1.6.0) (2.0.7)\n",
            "Requirement already satisfied: certifi>=2017.4.17 in /usr/local/lib/python3.10/dist-packages (from requests->dash>=2.0.0->dash-bootstrap-components==1.6.0) (2024.6.2)\n",
            "Requirement already satisfied: six>=1.7.0 in /usr/local/lib/python3.10/dist-packages (from retrying->dash>=2.0.0->dash-bootstrap-components==1.6.0) (1.16.0)\n",
            "Installing collected packages: dash-bootstrap-components\n",
            "Successfully installed dash-bootstrap-components-1.6.0\n"
          ]
        }
      ]
    },
    {
      "cell_type": "code",
      "execution_count": null,
      "metadata": {
        "id": "UD6sz4hT7CAe",
        "colab": {
          "base_uri": "https://localhost:8080/",
          "height": 89
        },
        "outputId": "ccfcda82-e8e9-4a33-c907-466f50ca827c"
      },
      "outputs": [
        {
          "output_type": "stream",
          "name": "stderr",
          "text": [
            "<ipython-input-3-e244bc44f1a6>:2: UserWarning: \n",
            "The dash_core_components package is deprecated. Please replace\n",
            "`import dash_core_components as dcc` with `from dash import dcc`\n",
            "  import dash_core_components as dcc\n"
          ]
        }
      ],
      "source": [
        "import dash\n",
        "import dash_core_components as dcc\n",
        "import dash_bootstrap_components as dbc\n",
        "from dash.dependencies import Input, Output\n",
        "import plotly.express as px\n",
        "import pandas as pd"
      ]
    },
    {
      "cell_type": "code",
      "source": [
        "\n",
        "#app = dash.Dash(__name__, external_stylesheets=[dbc.themes.BOOTSTRAP])\n",
        "url = 'https://docs.google.com/spreadsheets/d/1HPP3BYTgHkyx-7HU6UxQm-7UPAkQpB9J/export?format=xlsx'\n",
        "df = pd.read_excel(url)\n",
        "\n",
        "df.fillna(method='ffill', inplace=True)\n",
        "df.columns\n",
        "df.rename(columns={'Company ': 'Org'}, inplace=True)\n",
        "#df.columns\n"
      ],
      "metadata": {
        "id": "3L7o7NQA7mrT"
      },
      "execution_count": null,
      "outputs": []
    },
    {
      "cell_type": "code",
      "source": [
        "headings = df.Industry.tolist()\n",
        "\n",
        "headings = list(set(headings))\n",
        "headings"
      ],
      "metadata": {
        "colab": {
          "base_uri": "https://localhost:8080/"
        },
        "id": "Oi-a1oCUUIA7",
        "outputId": "7803ea57-7827-43a8-e876-058ee46250a2"
      },
      "execution_count": null,
      "outputs": [
        {
          "output_type": "execute_result",
          "data": {
            "text/plain": [
              "['Media',\n",
              " 'FMCG',\n",
              " 'Automobiles',\n",
              " 'Pharma',\n",
              " 'Trading',\n",
              " 'Power',\n",
              " 'Agriculture',\n",
              " 'Textile',\n",
              " 'Academics',\n",
              " 'Finance',\n",
              " 'Telecommunication',\n",
              " 'Manufacturing']"
            ]
          },
          "metadata": {},
          "execution_count": 5
        }
      ]
    },
    {
      "cell_type": "code",
      "source": [
        "app = dash.Dash(__name__, external_stylesheets=[dbc.themes.BOOTSTRAP])\n",
        "def ind_pie():\n",
        "    fig = px.pie(df, names='Industry', height=600, width=600, hole=0.7,\n",
        "                 color_discrete_sequence=['#4c78a8', '#72b7b2', '#6b92bc'])\n",
        "    fig.update_traces(hovertemplate=None, textposition='outside',\n",
        "     textinfo='percent+label', rotation=50)\n",
        "    fig.update_layout(margin=dict(t=50, b=35, l=0, r=0), showlegend=False,\n",
        "                            plot_bgcolor='#fafafa', paper_bgcolor='#fafafa',\n",
        "                            font=dict(size=17, color='#8a8d93'),\n",
        "                            hoverlabel=dict(bgcolor=\"#444\", font_size=13, font_family=\"Lato, sans-serif\"))\n",
        "    fig.add_annotation(dict(x=0.5, y=0.5,  align='center',\n",
        "                            xref = \"paper\", yref = \"paper\",\n",
        "                            showarrow = False, font_size=22,\n",
        "                        text=\"Industry Exposure\"))\n",
        "\n",
        "    #fig = px.pie(df, names='Industry',\n",
        "    #             values='Duration', hole=0.7)\n",
        "    #fig.update_layout(template='presentation', title='Sales distribution per Vendor')\n",
        "    return fig\n",
        "\n",
        "# creating app layout\n",
        "app.layout = dbc.Container([\n",
        "    dbc.Card([\n",
        "            dbc.Button('🡠', id='back-button', outline=True, size=\"sm\",\n",
        "                        className='mt-2 ml-2 col-1', style={'display': 'none'}),\n",
        "            dbc.Row(\n",
        "                dcc.Graph(\n",
        "                        id='graph',\n",
        "                        figure=ind_pie()\n",
        "                    ), justify='center'\n",
        "            )\n",
        "    ], className='mt-3')\n",
        "])\n",
        "\n",
        "#Callback\n",
        "@app.callback(\n",
        "    Output('graph', 'figure'),\n",
        "    Output('back-button', 'style'), #to hide/unhide the back button\n",
        "    Input('graph', 'clickData'),    #for getting the vendor name from graph\n",
        "    Input('back-button', 'n_clicks')\n",
        ")\n",
        "def drilldown(click_data,n_clicks):\n",
        "\n",
        "    # using callback context to check which input was fired\n",
        "    ctx = dash.callback_context\n",
        "    trigger_id = ctx.triggered[0][\"prop_id\"].split(\".\")[0]\n",
        "\n",
        "    if trigger_id == 'graph':\n",
        "\n",
        "        # get Industry name from clickData\n",
        "        if click_data is not None:\n",
        "            ind = click_data['points'][0]['label']\n",
        "\n",
        "            if ind in df.Industry.unique():\n",
        "                # creating df for clicked vendor\n",
        "                acc_detail_df = df[df['Industry'] == ind]\n",
        "\n",
        "                #fig = px.bar(acc_detail_df, x='Accounts',\n",
        "                #             y='Duration', color='Accounts',\n",
        "                #             custom_data=['Company ','Type'])\n",
        "                #fig.update_layout(title='<b>{} Details<b>'.format(ind),\n",
        "                #                  showlegend=False, template='presentation',\n",
        "                #                  hovertemplate=\"<br>\".join([\n",
        "                                            #     # \"Company: %{customdata[0]}\",\n",
        "                                            #     # \"Type: %{customdata[1]}\"\n",
        "\n",
        "                                            # ]))\n",
        "                fig = px.bar(acc_detail_df, x = 'Accounts', y='Duration',\n",
        "                             color='Accounts', custom_data=['Org', 'Type'])\n",
        "                fig.update_layout(title='<b>{} Drill Down Details<b>'.format(ind),\n",
        "                                  showlegend=False, template='presentation',\n",
        "                                  xaxis=dict(title=''),\n",
        "                                  yaxis=dict(title='Duration in months'))\n",
        "                fig.update_traces(\n",
        "                    hovertemplate=\"<br>\".join([\n",
        "                        \"Company: %{customdata[0]}\",\n",
        "                        \"Type: %{customdata[1]}\",\n",
        "                    ]))\n",
        "                return fig, {'display':'block'}     #returning the fig and unhiding the back button\n",
        "\n",
        "\n",
        "\n",
        "\n",
        "            else:\n",
        "                return ind_pie(), {'display': 'none'}     #hiding the back button\n",
        "\n",
        "    else:\n",
        "        return ind_pie(), {'display':'none'}\n",
        "\n",
        "if __name__ == '__main__':\n",
        "    app.run_server(debug=True)"
      ],
      "metadata": {
        "colab": {
          "base_uri": "https://localhost:8080/"
        },
        "id": "5G0FZinbAuHc",
        "outputId": "1ba5aaff-19e9-46af-b14e-96b94c92e2ea"
      },
      "execution_count": null,
      "outputs": [
        {
          "output_type": "display_data",
          "data": {
            "text/plain": [
              "<IPython.core.display.Javascript object>"
            ],
            "application/javascript": [
              "(async (port, path, width, height, cache, element) => {\n",
              "    if (!google.colab.kernel.accessAllowed && !cache) {\n",
              "      return;\n",
              "    }\n",
              "    element.appendChild(document.createTextNode(''));\n",
              "    const url = await google.colab.kernel.proxyPort(port, {cache});\n",
              "    const iframe = document.createElement('iframe');\n",
              "    iframe.src = new URL(path, url).toString();\n",
              "    iframe.height = height;\n",
              "    iframe.width = width;\n",
              "    iframe.style.border = 0;\n",
              "    iframe.allow = [\n",
              "        'accelerometer',\n",
              "        'autoplay',\n",
              "        'camera',\n",
              "        'clipboard-read',\n",
              "        'clipboard-write',\n",
              "        'gyroscope',\n",
              "        'magnetometer',\n",
              "        'microphone',\n",
              "        'serial',\n",
              "        'usb',\n",
              "        'xr-spatial-tracking',\n",
              "    ].join('; ');\n",
              "    element.appendChild(iframe);\n",
              "  })(8050, \"/\", \"100%\", 650, false, window.element)"
            ]
          },
          "metadata": {}
        }
      ]
    }
  ]
}